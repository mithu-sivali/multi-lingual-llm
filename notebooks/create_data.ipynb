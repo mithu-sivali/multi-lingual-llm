{
 "cells": [
  {
   "cell_type": "code",
   "execution_count": 1,
   "id": "bbb306f6-4d0b-4c2f-9bdc-213d0691944a",
   "metadata": {},
   "outputs": [],
   "source": [
    "import pandas as pd\n",
    "from pathlib import Path\n",
    "import random"
   ]
  },
  {
   "cell_type": "code",
   "execution_count": 2,
   "id": "b93cf413-68e7-4828-b8cd-f7266e08017c",
   "metadata": {},
   "outputs": [],
   "source": [
    "root_path = \"../dataset\"\n",
    "slr_65 = pd.read_csv(f'{root_path}/SLR65/line_index.tsv', sep=\"\\t\")\n",
    "mile_files = [file for file in Path(f'{root_path}/mile_tamil_asr_corpus/test/audio_files').rglob('*.wav')]"
   ]
  },
  {
   "cell_type": "code",
   "execution_count": 3,
   "id": "42bfea24-1129-471b-ab10-bff4394655ac",
   "metadata": {},
   "outputs": [],
   "source": [
    "# selected_files = random.sample(files,25)\n",
    "# selected_transcripts = [selected_files[0].stem]\n",
    "data = []\n",
    "for i in mile_files:\n",
    "    text = open(f'{root_path}/mile_tamil_asr_corpus/test/trans_files/{i.stem}.txt').readline().rstrip()\n",
    "    data.append((i.name, text))"
   ]
  },
  {
   "cell_type": "code",
   "execution_count": 4,
   "id": "210eb652-74c0-4035-ba2e-233a90bfa715",
   "metadata": {},
   "outputs": [],
   "source": [
    "columns = ['file_name', 'transcript']\n",
    "mile_df = pd.DataFrame(data, columns=columns)"
   ]
  },
  {
   "cell_type": "code",
   "execution_count": 7,
   "id": "d7ac58d0-426f-4705-a415-510f97f5daad",
   "metadata": {},
   "outputs": [],
   "source": [
    "my_slr = slr_65.sample(10)\n",
    "my_mile = mile_df.sample(10)"
   ]
  },
  {
   "cell_type": "code",
   "execution_count": 8,
   "id": "466249b9-a232-4d82-9fff-db1b4d2bf2e7",
   "metadata": {},
   "outputs": [
    {
     "data": {
      "text/html": [
       "<div>\n",
       "<style scoped>\n",
       "    .dataframe tbody tr th:only-of-type {\n",
       "        vertical-align: middle;\n",
       "    }\n",
       "\n",
       "    .dataframe tbody tr th {\n",
       "        vertical-align: top;\n",
       "    }\n",
       "\n",
       "    .dataframe thead th {\n",
       "        text-align: right;\n",
       "    }\n",
       "</style>\n",
       "<table border=\"1\" class=\"dataframe\">\n",
       "  <thead>\n",
       "    <tr style=\"text-align: right;\">\n",
       "      <th></th>\n",
       "      <th>file_name</th>\n",
       "      <th>transcript</th>\n",
       "    </tr>\n",
       "  </thead>\n",
       "  <tbody>\n",
       "    <tr>\n",
       "      <th>963</th>\n",
       "      <td>taf_05572_01057191235</td>\n",
       "      <td>மறுமார்க்கத்தில் ஞாயிறு மற்றும் செவ்வாய்க்கிழம...</td>\n",
       "    </tr>\n",
       "    <tr>\n",
       "      <th>434</th>\n",
       "      <td>taf_09689_00734962898</td>\n",
       "      <td>சென்னையில் விட்டு விட்டு மழை பெய்யும்</td>\n",
       "    </tr>\n",
       "    <tr>\n",
       "      <th>783</th>\n",
       "      <td>taf_07894_00810169828</td>\n",
       "      <td>மதுவில்லா தமிழகமே வருங்கால தமிழகத்தின் உயர் வள...</td>\n",
       "    </tr>\n",
       "    <tr>\n",
       "      <th>1416</th>\n",
       "      <td>taf_00008_01551958093</td>\n",
       "      <td>அதிவேகமாக வெப்பமயமாகும் ஆர்க்டிக் துருவம்</td>\n",
       "    </tr>\n",
       "    <tr>\n",
       "      <th>157</th>\n",
       "      <td>taf_03219_01581357498</td>\n",
       "      <td>சென்ற வாரம் வெளியான குற்றம் கடிதல் சர்வதேச படவ...</td>\n",
       "    </tr>\n",
       "    <tr>\n",
       "      <th>1615</th>\n",
       "      <td>taf_09689_00207958642</td>\n",
       "      <td>காலிறுதியில் இங்கிலாந்தை வெளியேற்றியது இலங்கை</td>\n",
       "    </tr>\n",
       "    <tr>\n",
       "      <th>1422</th>\n",
       "      <td>taf_04125_00490381109</td>\n",
       "      <td>சினிமாவில் உங்கள் சம்பாத்தியம் என்னவென்று நினை...</td>\n",
       "    </tr>\n",
       "    <tr>\n",
       "      <th>607</th>\n",
       "      <td>taf_02042_01774473525</td>\n",
       "      <td>பல்வேறு வகையான ஹோமம் யாகங்கள் இருந்தாலும் அவற்...</td>\n",
       "    </tr>\n",
       "    <tr>\n",
       "      <th>1532</th>\n",
       "      <td>taf_05572_01030998534</td>\n",
       "      <td>ஜான்சன் பந்துவீச்சில் ஜான்சனிடமே கேட்ச் கொடுத்...</td>\n",
       "    </tr>\n",
       "    <tr>\n",
       "      <th>2172</th>\n",
       "      <td>taf_02027_00784212265</td>\n",
       "      <td>மகாத்மா காந்தி வாழ்ந்த தென்னாப்பிரிக்க வீட்டை ...</td>\n",
       "    </tr>\n",
       "  </tbody>\n",
       "</table>\n",
       "</div>"
      ],
      "text/plain": [
       "                  file_name                                         transcript\n",
       "963   taf_05572_01057191235  மறுமார்க்கத்தில் ஞாயிறு மற்றும் செவ்வாய்க்கிழம...\n",
       "434   taf_09689_00734962898              சென்னையில் விட்டு விட்டு மழை பெய்யும்\n",
       "783   taf_07894_00810169828  மதுவில்லா தமிழகமே வருங்கால தமிழகத்தின் உயர் வள...\n",
       "1416  taf_00008_01551958093          அதிவேகமாக வெப்பமயமாகும் ஆர்க்டிக் துருவம்\n",
       "157   taf_03219_01581357498  சென்ற வாரம் வெளியான குற்றம் கடிதல் சர்வதேச படவ...\n",
       "1615  taf_09689_00207958642      காலிறுதியில் இங்கிலாந்தை வெளியேற்றியது இலங்கை\n",
       "1422  taf_04125_00490381109  சினிமாவில் உங்கள் சம்பாத்தியம் என்னவென்று நினை...\n",
       "607   taf_02042_01774473525  பல்வேறு வகையான ஹோமம் யாகங்கள் இருந்தாலும் அவற்...\n",
       "1532  taf_05572_01030998534  ஜான்சன் பந்துவீச்சில் ஜான்சனிடமே கேட்ச் கொடுத்...\n",
       "2172  taf_02027_00784212265  மகாத்மா காந்தி வாழ்ந்த தென்னாப்பிரிக்க வீட்டை ..."
      ]
     },
     "execution_count": 8,
     "metadata": {},
     "output_type": "execute_result"
    }
   ],
   "source": []
  },
  {
   "cell_type": "code",
   "execution_count": 9,
   "id": "fe25e7bf-2e32-443f-813b-8b3376b93d1c",
   "metadata": {},
   "outputs": [
    {
     "name": "stdout",
     "output_type": "stream",
     "text": [
      "taf_05572_01057191235\n",
      "taf_09689_00734962898\n",
      "taf_07894_00810169828\n",
      "taf_00008_01551958093\n",
      "taf_03219_01581357498\n",
      "taf_09689_00207958642\n",
      "taf_04125_00490381109\n",
      "taf_02042_01774473525\n",
      "taf_05572_01030998534\n",
      "taf_02027_00784212265\n"
     ]
    }
   ],
   "source": [
    "import shutil\n",
    "\n",
    "src_root = f'{root_path}/SLR65'\n",
    "\n",
    "count = 0\n",
    "for i in my_slr[\"file_name\"]:\n",
    "    print(i)\n",
    "    shutil.copyfile(f'{src_root}/{i}.wav', f'{root_path}/tamil-tts/{count}.wav')\n",
    "    count+=1"
   ]
  },
  {
   "cell_type": "code",
   "execution_count": 10,
   "id": "5ee6acd2-d4f9-4bfb-9321-2a6ca1cf031e",
   "metadata": {},
   "outputs": [
    {
     "name": "stdout",
     "output_type": "stream",
     "text": [
      "MILE_0000192_0000019.wav\n",
      "MILE_0000386_0000093.wav\n",
      "MILE_0000057_0000091.wav\n",
      "MILE_0000144_0000043.wav\n",
      "MILE_0000327_0000127.wav\n",
      "MILE_0000396_0000084.wav\n",
      "MILE_0000223_0000081.wav\n",
      "MILE_0000385_0000011.wav\n",
      "MILE_0000206_0000011.wav\n",
      "MILE_0000306_0000034.wav\n"
     ]
    }
   ],
   "source": [
    "mile_src_root = f'{root_path}/mile_tamil_asr_corpus/test/audio_files'\n",
    "\n",
    "count = 10\n",
    "for i in my_mile[\"file_name\"]:\n",
    "    print(i)\n",
    "    shutil.copyfile(f'{mile_src_root}/{i}', f'{root_path}/tamil-tts/{count}.wav')\n",
    "    count+=1"
   ]
  },
  {
   "cell_type": "code",
   "execution_count": 11,
   "id": "48081e29-432f-468d-9533-35d7f241b6ba",
   "metadata": {},
   "outputs": [],
   "source": [
    "my_df = pd.concat([my_slr, my_mile], axis=0, ignore_index=True)"
   ]
  },
  {
   "cell_type": "code",
   "execution_count": 12,
   "id": "e6077354-294f-4dad-af42-ebf27f0554ad",
   "metadata": {},
   "outputs": [],
   "source": [
    "my_df.insert(0, 'ID', range(0, 0 + len(my_df)))"
   ]
  },
  {
   "cell_type": "code",
   "execution_count": 13,
   "id": "eab6da1b-14ea-4aab-ba11-1e240e6dd5a6",
   "metadata": {},
   "outputs": [],
   "source": [
    "my_df = my_df.drop('file_name', axis=1)"
   ]
  },
  {
   "cell_type": "code",
   "execution_count": 14,
   "id": "2b5f9ef2-6c97-4601-b214-11040b8a479f",
   "metadata": {},
   "outputs": [],
   "source": [
    "my_df.columns = [\"filename\",\"transcript\"]"
   ]
  },
  {
   "cell_type": "code",
   "execution_count": 15,
   "id": "eacc2041-ef8e-4faf-9e83-6198d0ec4753",
   "metadata": {},
   "outputs": [],
   "source": [
    "my_df.to_csv(f'{root_path}/tamil-tts/tamil.csv')"
   ]
  }
 ],
 "metadata": {
  "kernelspec": {
   "display_name": "Python 3 (ipykernel)",
   "language": "python",
   "name": "python3"
  },
  "language_info": {
   "codemirror_mode": {
    "name": "ipython",
    "version": 3
   },
   "file_extension": ".py",
   "mimetype": "text/x-python",
   "name": "python",
   "nbconvert_exporter": "python",
   "pygments_lexer": "ipython3",
   "version": "3.9.16"
  }
 },
 "nbformat": 4,
 "nbformat_minor": 5
}
