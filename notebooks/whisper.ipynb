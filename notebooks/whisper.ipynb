{
 "cells": [
  {
   "cell_type": "code",
   "execution_count": 10,
   "id": "beec6690-9b1d-478f-a41a-5714a3e0e633",
   "metadata": {},
   "outputs": [],
   "source": [
    "from openai import OpenAI\n",
    "import pandas as pd\n",
    "openai_client = OpenAI(api_key=\"\")"
   ]
  },
  {
   "cell_type": "code",
   "execution_count": 13,
   "id": "8a74941f-56c4-4c1a-947f-74bcd4422578",
   "metadata": {},
   "outputs": [
    {
     "name": "stdout",
     "output_type": "stream",
     "text": [
      "மூரு மீட்டரில்\n"
     ]
    }
   ],
   "source": [
    "root = \"../dataset\"\n",
    "tamil_df = pd.read_csv(f'{root}/tamil/tamil.csv')\n",
    "\n"
   ]
  },
  {
   "cell_type": "code",
   "execution_count": 18,
   "id": "61249dff-4c9c-4369-8da7-5801282c2c3e",
   "metadata": {},
   "outputs": [
    {
     "name": "stdout",
     "output_type": "stream",
     "text": [
      "மூரு மீட்டரில்\n",
      "500 அ.\n",
      "ஜான்சிராணி லஷ்மிவாய் எழுதிய கடிதம் இங்கிலாந்தில் கண்டுபிடிப்பு\n",
      "நீங்கள் சேரும் இடத்தை வந்தடைவீர்கள்.\n",
      "கேரலத்து பத்மனாபஸ்வாமைக் கோவிலில் பெருமளவு தங்கம் கண்டுபிடிப்பு\n",
      "டிசம்பர் 24 தேதி முதல் ஜனவரி ஒன்று வரை பள்ளிகளுக்கு விடுமுறை.\n",
      "மலாலாவுக்கு ஐரோபிய ஒன்றியத்தின் சாகரோ மனிதர் உரிமை விருது.\n",
      "வாகனங்களின் விளை குறையும்.\n",
      "மறைந்த ஆப்பிள் நிருவனர் ஸ்டீவ் ஜாப்ஸக்கு கிராமி விருது.\n",
      "அது மீடியாக்களால் உருவாக்கப்பட்டது.\n",
      "புதிய அரசியல் அமைப்புக்கு எகிப்து மக்கள் ஒப்புதல் அளித்தனர்.\n",
      "விக்னேஷ் சிவனிடம் அவரைத்து திருமணம் கூறித்துக் கேட்காத நிறுபரகள் என்ன நிறுபரகள்?\n",
      "சென்னை விமான நிலையத்தில் ஒரு கிலோ தங்கம் பரிமுதல்\n",
      "நடியர் சங்கத்திற்கு சொந்தமான இடத்தின் தாய்ப்பத்திரம் எங்கள் இடம்தான் இருக்கிறது.\n",
      "மாலைத் தீவில் கடலுக்கடியில் அமைச்சரவைகூட்டம்\n",
      "தின்இந்தியாவை விடு வடைந்தியா வேகமாக வளர்ச்சிடையும்\n",
      "இந்தத் தூண்கள் கட்ட நான்காயிரம் தண் சிமெண்ட் பயன்படுத்தப்பட்டது.\n",
      "ஒவ்வொரு கரகத்திற்கும் தனி காரகத்துவம் உள்ளது.\n",
      "தோல் வீரணுக்கல் ரத்தமாக மாற்ற வழிமுறை கண்டுபிடிப்பு\n",
      "பங்குசந்தை குறியிட்டு என் சரிவு\n",
      "300 అటియల\n",
      "நட்சத்திரம் என்பது என்ன?\n",
      "ப்லாஸ்டிக் சர்ஜரி துரை நவீனம் ஆகும்\n",
      "ஜூலை ஒன்று மருத்துவர் தினம்\n",
      "லேசாக இடது புறம் வளைந்து செல்க.\n",
      "இந்த செயலை இக்கறவியால் இன்னவன் செய்து முடிப்பான் என்று\n",
      "ஏற்கனவே 1983 இல் இருந்து 65 ஆண்டுகளுக்கு முன்னால் இருக்கும் அவர்களுக்கு முன்னால் இருக்கும்\n",
      "ஆதரவானதி என அவர்கள் கூச்சலிட்டனர்\n",
      "காஸ்மீருக்கு தனி நாடு அந்தஸ்தை கொடுக்கலாம். ஆனால் தரப்போது இல்ல சூழ்ந்தையில் அங்க சுதந்திரத்தை எதிர்பார்க்க முடியாது.\n",
      "விலைவித்தாள் இலப்பு ஏற்பட்டது குறித்து புகாரும் கூறினார்.\n",
      "தட்டினை விடவும் அதிக பலமுள்ளதாக இருக்கிற ஒரு சக்தி பக்கம் கட்டாயம் திரும்ப வேண்டும்\n",
      "ஏட்டின்படி டிசம்பர் 2009 குள் 100 பில்லியன் இரோக்கலை\n",
      "அதிகாரிகளுக்கே சந்தேகமாகத்தான் உள்ளது.\n",
      "வில் வீரர் யோசியா ராஜாவின் மேல் அம்பெய்தார்கள் அப்போலது ராஜா தன் ஊளியக்காரரை\n",
      "திரைடப்பட்ட பாடல்களில் விஜயின் நடனம்\n",
      "குர்த்திஸ் பிராந்தியா அரசாங்கத்திற்கு அமேரிக்கா மற்றும் பிரெட்டன் நெட்கடி கொடுத்தன.\n",
      "வாழ்க்கையை, சுதுந்திரத்தை அல்லது சொத்துக்கலை உரிய வளிமுறைகள் இல்லாமல்\n",
      "ஒருவன் தனக்கு பொருளாக அடக்கத்தையும் இண்டாக்குக்கு\n",
      "போர் திட்டங்கள் குறைந்த பச்சம் இரண்டு லச்சத்து ஐயஂபத்து ஆயரஂ துருப்புகள்\n",
      "பர்வேஸ் முசாரஃவுடன் புஸ் பேச திட்டமுட்டுள்ளதாக\n",
      "புட்டினொடி ஆச்சி இனிக்க முடியாத அளவிற்கு உடன் விலவுண்டிருப்பதாக மாஸ்கோவில் கண்டிப்பதாக\n",
      "பகையையும் நட்பாக மாற்றி அவருடன் இணைந்து வாழும்\n",
      "போலிசாரால் சுற்றி வளைக்கப்பட்டு இருந்தது. அது ஒரு பழங்கால கோட்டையாக தெரிந்தது.\n",
      "கடத்திய இரு எறிபொருள் தேங்கர்கள் மீது குண்டு வீச அமெரிக்கத் தாக்குதல் விமானத்தின் உதவியை நாடினார்\n",
      "பயங்கரவாதத்தின் மீதான புஷ்ஷின் யுத்தம் பற்றிய சோசியலிசம் சமத்துவ கட்சின்\n",
      "அப்பாசிருக்கு நிதியாதர்வு கொடுப்பதாகும் மேர்க்கரையின் மீது சுமத்தப்பட்டுள்ளப் பார்த்துகிறீர்கள்\n",
      "ஆராம் ஆண்டு நிறைவு நாளில் கூப்பிடப்பட்டுள்ள இந்த இயத்தைக் கேட்டுக்கொள்ளுங்கள்\n",
      "கூட்டுளைப்பு வாத தத்துவங்கள் அத்தனை முனைகளிலும் தோழியுச்சுளண.\n",
      "புஷ் நிர்வாகத்தை தீவரமாகக் கண்டிக்கிறார், பழையெழுத்துச் சென்று அந்த நாட்டை முதியடுத்ததை சாடிக்கிறார்.\n",
      "இடது கச்சினர் சீதிருத்தங்கள் என்று கூறப்படுவ வட்டைச் செய்யல்படுத்துவதில் வளர்த்தசாரிகளைப் போன்று\n"
     ]
    }
   ],
   "source": [
    "responses = []\n",
    "for i in tamil_df['filename']:\n",
    "    audio_file= open(f'../dataset/tamil/{i}.wav', \"rb\")\n",
    "    transcription = openai_client.audio.transcriptions.create(\n",
    "      model=\"whisper-1\", \n",
    "      file=audio_file\n",
    "    )\n",
    "    responses.append(transcription.text)\n",
    "    print(transcription.text)"
   ]
  },
  {
   "cell_type": "code",
   "execution_count": 20,
   "id": "755a06d8-9371-4886-9f6b-4e403b38b2aa",
   "metadata": {},
   "outputs": [],
   "source": [
    "tamil_df['whisper_results'] = responses\n"
   ]
  },
  {
   "cell_type": "code",
   "execution_count": 24,
   "id": "2cfb70b6-ef48-487c-bd99-af7f92f86e04",
   "metadata": {},
   "outputs": [
    {
     "name": "stdout",
     "output_type": "stream",
     "text": [
      "{\"id\":\"e48f2bee-78fe-4531-9310-476f43e38aef\",\"result_url\":\"https://api.gladia.io/v2/transcription/e48f2bee-78fe-4531-9310-476f43e38aef\"}\n"
     ]
    }
   ],
   "source": [
    "\n",
    "import requests\n",
    "\n",
    "url = \"https://api.gladia.io/v2/transcription\"\n",
    "\n",
    "payload = {\n",
    "    \"context_prompt\": \"<string>\",\n",
    "    \"custom_vocabulary\": [\"<string>\"],\n",
    "    \"detect_language\": True,\n",
    "    \"enable_code_switching\": True,\n",
    "    \"code_switching_config\": {\"languages\": [\"af\"]},\n",
    "    \"language\": \"en\",\n",
    "    \"callback_url\": \"http://callback.example\",\n",
    "    \"subtitles\": True,\n",
    "    \"subtitles_config\": {\"formats\": [\"srt\"]},\n",
    "    \"diarization\": True,\n",
    "    \"diarization_config\": {\n",
    "        \"number_of_speakers\": 2,\n",
    "        \"min_speakers\": 1,\n",
    "        \"max_speakers\": 2\n",
    "    },\n",
    "    \"translation\": True,\n",
    "    \"translation_config\": {\n",
    "        \"target_languages\": [\"en\"],\n",
    "        \"model\": \"base\"\n",
    "    },\n",
    "    \"summarization\": True,\n",
    "    \"summarization_config\": {\"type\": \"general\"},\n",
    "    \"moderation\": True,\n",
    "    \"named_entity_recognition\": True,\n",
    "    \"chapterization\": True,\n",
    "    \"name_consistency\": True,\n",
    "    \"custom_spelling\": True,\n",
    "    \"custom_spelling_config\": {\"spelling_dictionary\": {\n",
    "            \"Gettleman\": [\"gettleman\"],\n",
    "            \"SQL\": [\"Sequel\"]\n",
    "        }},\n",
    "    \"structured_data_extraction\": True,\n",
    "    \"structured_data_extraction_config\": {\"classes\": [\"person\", \"organization\"]},\n",
    "    \"sentiment_analysis\": True,\n",
    "    \"audio_to_llm\": True,\n",
    "    \"audio_to_llm_config\": {\"prompts\": [\"Extract the key points from the transcription\"]},\n",
    "    \"custom_metadata\": {},\n",
    "    \"sentences\": True,\n",
    "    \"display_mode\": True,\n",
    "    \"audio_url\": \"http://files.gladia.io/example/audio-transcription/split_infinity.wav\"\n",
    "}\n",
    "headers = {\n",
    "    \"x-gladia-key\": \"869fc666-ca95-4279-b38a-a1d4869a2a01\",\n",
    "    \"Content-Type\": \"application/json\"\n",
    "}\n",
    "\n",
    "response = requests.request(\"POST\", url, json=payload, headers=headers)\n",
    "\n",
    "print(response.text)\n"
   ]
  }
 ],
 "metadata": {
  "kernelspec": {
   "display_name": "Python 3 (ipykernel)",
   "language": "python",
   "name": "python3"
  },
  "language_info": {
   "codemirror_mode": {
    "name": "ipython",
    "version": 3
   },
   "file_extension": ".py",
   "mimetype": "text/x-python",
   "name": "python",
   "nbconvert_exporter": "python",
   "pygments_lexer": "ipython3",
   "version": "3.9.16"
  }
 },
 "nbformat": 4,
 "nbformat_minor": 5
}
