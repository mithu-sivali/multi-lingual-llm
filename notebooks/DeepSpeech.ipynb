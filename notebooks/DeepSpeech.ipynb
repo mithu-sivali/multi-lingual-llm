{
 "cells": [
  {
   "cell_type": "code",
   "execution_count": 2,
   "id": "81ed6dd4-59d9-406e-8589-a9225e422ea6",
   "metadata": {},
   "outputs": [
    {
     "name": "stdout",
     "output_type": "stream",
     "text": [
      "Collecting deepspeech\n",
      "  Downloading deepspeech-0.9.3-cp39-cp39-manylinux1_x86_64.whl.metadata (1.4 kB)\n",
      "Requirement already satisfied: numpy>=1.19.4 in /home/ubuntu/suriya/speech-benchmarks/venv/lib/python3.9/site-packages (from deepspeech) (2.0.0)\n",
      "Downloading deepspeech-0.9.3-cp39-cp39-manylinux1_x86_64.whl (9.2 MB)\n",
      "\u001b[2K   \u001b[90m━━━━━━━━━━━━━━━━━━━━━━━━━━━━━━━━━━━━━━━━\u001b[0m \u001b[32m9.2/9.2 MB\u001b[0m \u001b[31m87.4 MB/s\u001b[0m eta \u001b[36m0:00:00\u001b[0m:00:01\u001b[0m00:01\u001b[0m\n",
      "\u001b[?25hInstalling collected packages: deepspeech\n",
      "Successfully installed deepspeech-0.9.3\n"
     ]
    }
   ],
   "source": [
    "!pip3 install deepspeech"
   ]
  },
  {
   "cell_type": "code",
   "execution_count": 1,
   "id": "21d9c5a6-bb1c-4c4f-88e7-fcf98a6f8eb3",
   "metadata": {},
   "outputs": [
    {
     "name": "stdout",
     "output_type": "stream",
     "text": [
      "/home/ubuntu/suriya/speech-benchmarks/notebooks\n"
     ]
    }
   ],
   "source": [
    "!pwd"
   ]
  },
  {
   "cell_type": "code",
   "execution_count": null,
   "id": "0f6b7e2b-8efc-4c0e-8229-bbb0c9e82bc5",
   "metadata": {},
   "outputs": [],
   "source": [
    "\n"
   ]
  },
  {
   "cell_type": "code",
   "execution_count": 4,
   "id": "e3e3b2d3-70b1-41e0-b2c8-bd7de4a180d7",
   "metadata": {},
   "outputs": [],
   "source": [
    "model_dir = \"/home/ubuntu/suriya/speech-benchmarks/dataset/deepspeech\""
   ]
  },
  {
   "cell_type": "code",
   "execution_count": 1,
   "id": "962c16f1-6082-48cf-8434-0d28b1f03975",
   "metadata": {},
   "outputs": [
    {
     "name": "stdout",
     "output_type": "stream",
     "text": [
      "Loading model from file /home/ubuntu/suriya/speech-benchmarks/dataset/deepspeech/deepspeech-0.9.3-models.pbmm\n",
      "TensorFlow: v2.3.0-6-g23ad988\n",
      "DeepSpeech: v0.9.3-0-gf2e9c85\n",
      "2024-06-27 17:54:38.062738: I tensorflow/core/platform/cpu_feature_guard.cc:142] This TensorFlow binary is optimized with oneAPI Deep Neural Network Library (oneDNN)to use the following CPU instructions in performance-critical operations:  AVX2 FMA\n",
      "To enable them in other operations, rebuild TensorFlow with the appropriate compiler flags.\n",
      "Loaded model in 0.0128s.\n",
      "Loading scorer from files /home/ubuntu/suriya/speech-benchmarks/dataset/deepspeech/deepspeech-0.9.3-models.scorer\n",
      "Loaded scorer in 0.000205s.\n",
      "Warning: original sample rate (48000) is different than 16000hz. Resampling might produce erratic speech recognition.\n",
      "Traceback (most recent call last):\n",
      "  File \"/home/ubuntu/suriya/speech-benchmarks/venv/lib/python3.9/site-packages/deepspeech/client.py\", line 25, in convert_samplerate\n",
      "    output = subprocess.check_output(shlex.split(sox_cmd), stderr=subprocess.PIPE)\n",
      "  File \"/usr/lib/python3.9/subprocess.py\", line 424, in check_output\n",
      "    return run(*popenargs, stdout=PIPE, timeout=timeout, check=True,\n",
      "  File \"/usr/lib/python3.9/subprocess.py\", line 505, in run\n",
      "    with Popen(*popenargs, **kwargs) as process:\n",
      "  File \"/usr/lib/python3.9/subprocess.py\", line 951, in __init__\n",
      "    self._execute_child(args, executable, preexec_fn, close_fds,\n",
      "  File \"/usr/lib/python3.9/subprocess.py\", line 1821, in _execute_child\n",
      "    raise child_exception_type(errno_num, err_msg, err_filename)\n",
      "FileNotFoundError: [Errno 2] No such file or directory: 'sox'\n",
      "\n",
      "During handling of the above exception, another exception occurred:\n",
      "\n",
      "Traceback (most recent call last):\n",
      "  File \"/home/ubuntu/suriya/speech-benchmarks/venv/bin/deepspeech\", line 8, in <module>\n",
      "    sys.exit(main())\n",
      "  File \"/home/ubuntu/suriya/speech-benchmarks/venv/lib/python3.9/site-packages/deepspeech/client.py\", line 149, in main\n",
      "    fs_new, audio = convert_samplerate(args.audio, desired_sample_rate)\n",
      "  File \"/home/ubuntu/suriya/speech-benchmarks/venv/lib/python3.9/site-packages/deepspeech/client.py\", line 29, in convert_samplerate\n",
      "    raise OSError(e.errno, 'SoX not found, use {}hz files or install it: {}'.format(desired_sample_rate, e.strerror))\n",
      "FileNotFoundError: [Errno 2] SoX not found, use 16000hz files or install it: No such file or directory\n"
     ]
    }
   ],
   "source": [
    "!deepspeech --model /home/ubuntu/suriya/speech-benchmarks/dataset/deepspeech/deepspeech-0.9.3-models.pbmm --scorer /home/ubuntu/suriya/speech-benchmarks/dataset/deepspeech/deepspeech-0.9.3-models.scorer --audio /home/ubuntu/suriya/speech-benchmarks/dataset/tamil/1.wav\n"
   ]
  },
  {
   "cell_type": "code",
   "execution_count": 7,
   "id": "c6d9be48-bf9f-4ed2-93bb-9c338e88536e",
   "metadata": {},
   "outputs": [
    {
     "name": "stdout",
     "output_type": "stream",
     "text": [
      "Collecting numpy==1.26.4\n",
      "  Downloading numpy-1.26.4-cp39-cp39-manylinux_2_17_x86_64.manylinux2014_x86_64.whl.metadata (61 kB)\n",
      "\u001b[2K     \u001b[90m━━━━━━━━━━━━━━━━━━━━━━━━━━━━━━━━━━━━━━━━\u001b[0m \u001b[32m61.0/61.0 kB\u001b[0m \u001b[31m7.2 MB/s\u001b[0m eta \u001b[36m0:00:00\u001b[0m\n",
      "\u001b[?25hDownloading numpy-1.26.4-cp39-cp39-manylinux_2_17_x86_64.manylinux2014_x86_64.whl (18.2 MB)\n",
      "\u001b[2K   \u001b[90m━━━━━━━━━━━━━━━━━━━━━━━━━━━━━━━━━━━━━━━━\u001b[0m \u001b[32m18.2/18.2 MB\u001b[0m \u001b[31m94.6 MB/s\u001b[0m eta \u001b[36m0:00:00\u001b[0m:00:01\u001b[0m00:01\u001b[0m\n",
      "\u001b[?25hInstalling collected packages: numpy\n",
      "  Attempting uninstall: numpy\n",
      "    Found existing installation: numpy 2.0.0\n",
      "    Uninstalling numpy-2.0.0:\n",
      "      Successfully uninstalled numpy-2.0.0\n",
      "Successfully installed numpy-1.26.4\n"
     ]
    }
   ],
   "source": [
    "!pip install numpy==1.26.4"
   ]
  },
  {
   "cell_type": "code",
   "execution_count": 3,
   "id": "4f88bea0-d6d0-45c6-ac0b-83b66cbb63c2",
   "metadata": {},
   "outputs": [
    {
     "name": "stdout",
     "output_type": "stream",
     "text": [
      "Collecting SoX\n",
      "  Downloading sox-1.5.0.tar.gz (63 kB)\n",
      "\u001b[2K     \u001b[90m━━━━━━━━━━━━━━━━━━━━━━━━━━━━━━━━━━━━━━━━\u001b[0m \u001b[32m63.9/63.9 kB\u001b[0m \u001b[31m8.5 MB/s\u001b[0m eta \u001b[36m0:00:00\u001b[0m\n",
      "\u001b[?25h  Preparing metadata (setup.py) ... \u001b[?25ldone\n",
      "\u001b[?25hRequirement already satisfied: numpy>=1.9.0 in /home/ubuntu/suriya/speech-benchmarks/venv/lib/python3.9/site-packages (from SoX) (1.26.4)\n",
      "Requirement already satisfied: typing-extensions>=3.7.4.2 in /home/ubuntu/suriya/speech-benchmarks/venv/lib/python3.9/site-packages (from SoX) (4.12.2)\n",
      "Building wheels for collected packages: SoX\n",
      "  Building wheel for SoX (setup.py) ... \u001b[?25ldone\n",
      "\u001b[?25h  Created wheel for SoX: filename=sox-1.5.0-py3-none-any.whl size=40038 sha256=cc569fdfb86125dbfca62bce7c96be71ceeccf012506be0dc15221ae58dc9955\n",
      "  Stored in directory: /home/ubuntu/.cache/pip/wheels/82/04/96/625c0e92308762f097033f3b12c43cdd16f30e88cd8ed592c7\n",
      "Successfully built SoX\n",
      "Installing collected packages: SoX\n",
      "Successfully installed SoX-1.5.0\n"
     ]
    }
   ],
   "source": [
    "!pip install --upgrade SoX\n"
   ]
  },
  {
   "cell_type": "code",
   "execution_count": null,
   "id": "0edd540f-3e8d-422c-9066-635d618f19fb",
   "metadata": {},
   "outputs": [],
   "source": []
  }
 ],
 "metadata": {
  "kernelspec": {
   "display_name": "deepspeech",
   "language": "python",
   "name": "deepspeech"
  },
  "language_info": {
   "codemirror_mode": {
    "name": "ipython",
    "version": 3
   },
   "file_extension": ".py",
   "mimetype": "text/x-python",
   "name": "python",
   "nbconvert_exporter": "python",
   "pygments_lexer": "ipython3",
   "version": "3.8.10"
  }
 },
 "nbformat": 4,
 "nbformat_minor": 5
}
