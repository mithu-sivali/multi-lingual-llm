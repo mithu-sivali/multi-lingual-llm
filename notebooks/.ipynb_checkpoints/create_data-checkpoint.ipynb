{
 "cells": [
  {
   "cell_type": "code",
   "execution_count": 20,
   "id": "bbb306f6-4d0b-4c2f-9bdc-213d0691944a",
   "metadata": {},
   "outputs": [],
   "source": [
    "import pandas as pd\n",
    "from pathlib import Path\n",
    "import random"
   ]
  },
  {
   "cell_type": "code",
   "execution_count": 54,
   "id": "b93cf413-68e7-4828-b8cd-f7266e08017c",
   "metadata": {},
   "outputs": [],
   "source": [
    "root_path = \"../dataset\"\n",
    "slr_65 = pd.read_csv(f'{root_path}/SLR65/line_index.tsv', sep=\"\\t\")\n",
    "mile_files = [file for file in Path(f'{root_path}/mile_tamil_asr_corpus/test/audio_files').rglob('*.wav')]"
   ]
  },
  {
   "cell_type": "code",
   "execution_count": 55,
   "id": "42bfea24-1129-471b-ab10-bff4394655ac",
   "metadata": {},
   "outputs": [],
   "source": [
    "# selected_files = random.sample(files,25)\n",
    "# selected_transcripts = [selected_files[0].stem]\n",
    "data = []\n",
    "for i in mile_files:\n",
    "    text = open(f'{root_path}/mile_tamil_asr_corpus/test/trans_files/{i.stem}.txt').readline().rstrip()\n",
    "    data.append((i.name, text))"
   ]
  },
  {
   "cell_type": "code",
   "execution_count": 56,
   "id": "210eb652-74c0-4035-ba2e-233a90bfa715",
   "metadata": {},
   "outputs": [],
   "source": [
    "columns = ['file_name', 'transcript']\n",
    "mile_df = pd.DataFrame(data, columns=columns)"
   ]
  },
  {
   "cell_type": "code",
   "execution_count": 67,
   "id": "d7ac58d0-426f-4705-a415-510f97f5daad",
   "metadata": {},
   "outputs": [],
   "source": [
    "my_slr = slr_65.sample(25)\n",
    "my_mile = mile_df.sample(25)"
   ]
  },
  {
   "cell_type": "code",
   "execution_count": 75,
   "id": "fe25e7bf-2e32-443f-813b-8b3376b93d1c",
   "metadata": {},
   "outputs": [
    {
     "name": "stdout",
     "output_type": "stream",
     "text": [
      "taf_06796_00001910554\n",
      "taf_06796_01575521089\n",
      "taf_08213_01689152604\n",
      "taf_04696_00789760026\n",
      "taf_03219_00845277201\n",
      "taf_09689_01698717062\n",
      "taf_07894_01846563648\n",
      "taf_03219_01025039009\n",
      "taf_07894_01693608143\n",
      "taf_06958_01537603491\n",
      "taf_04125_01509747357\n",
      "taf_07894_00854664140\n",
      "taf_09705_00671506893\n",
      "taf_06958_00654001472\n",
      "taf_06478_00192470330\n",
      "taf_02330_00240467190\n",
      "taf_04125_00869582850\n",
      "taf_09689_01123409569\n",
      "taf_07352_01810758502\n",
      "taf_07367_00904526940\n",
      "taf_04696_02035204679\n",
      "taf_01484_00886973631\n",
      "taf_06478_01810229077\n",
      "taf_02027_01083917961\n",
      "taf_06796_00671284671\n"
     ]
    }
   ],
   "source": [
    "import shutil\n",
    "\n",
    "src_root = f'{root_path}/SLR65'\n",
    "\n",
    "count = 0\n",
    "for i in my_slr[\"file_name\"]:\n",
    "    print(i)\n",
    "    shutil.copyfile(f'{src_root}/{i}.wav', f'{root_path}/tamil/{count}.wav')\n",
    "    count+=1"
   ]
  },
  {
   "cell_type": "code",
   "execution_count": 96,
   "id": "5ee6acd2-d4f9-4bfb-9321-2a6ca1cf031e",
   "metadata": {},
   "outputs": [
    {
     "name": "stdout",
     "output_type": "stream",
     "text": [
      "MILE_0000268_0000232.wav\n",
      "MILE_0000366_0000020.wav\n",
      "MILE_0000194_0000113.wav\n",
      "MICI_0000021_0000193.wav\n",
      "MILE_0000128_0000176.wav\n",
      "MILE_0000097_0000011.wav\n",
      "MILE_0000346_0000037.wav\n",
      "MILE_0000064_0000175.wav\n",
      "MILE_0000309_0000067.wav\n",
      "MILE_0000268_0000039.wav\n",
      "MILE_0000015_0000025.wav\n",
      "MILE_0000358_0000018.wav\n",
      "MILE_0000007_0000065.wav\n",
      "MILE_0000328_0000141.wav\n",
      "MILE_0000296_0000043.wav\n",
      "MILE_0000099_0000076.wav\n",
      "MILE_0000214_0000073.wav\n",
      "MILE_0000066_0000024.wav\n",
      "MILE_0000348_0000035.wav\n",
      "MILE_0000372_0000024.wav\n",
      "MILE_0000353_0000064.wav\n",
      "MILE_0000287_0000021.wav\n",
      "MILE_0000187_0000075.wav\n",
      "MILE_0000307_0000044.wav\n",
      "MILE_0000127_0000124.wav\n"
     ]
    }
   ],
   "source": [
    "mile_src_root = f'{root_path}/mile_tamil_asr_corpus/test/audio_files'\n",
    "\n",
    "count = 25\n",
    "for i in my_mile[\"file_name\"]:\n",
    "    print(i)\n",
    "    shutil.copyfile(f'{mile_src_root}/{i}', f'{root_path}/tamil/{count}.wav')\n",
    "    count+=1"
   ]
  },
  {
   "cell_type": "code",
   "execution_count": 80,
   "id": "48081e29-432f-468d-9533-35d7f241b6ba",
   "metadata": {},
   "outputs": [],
   "source": [
    "my_df = pd.concat([my_slr, my_mile], axis=0, ignore_index=True)"
   ]
  },
  {
   "cell_type": "code",
   "execution_count": 82,
   "id": "e6077354-294f-4dad-af42-ebf27f0554ad",
   "metadata": {},
   "outputs": [],
   "source": [
    "my_df.insert(0, 'ID', range(0, 0 + len(my_df)))"
   ]
  },
  {
   "cell_type": "code",
   "execution_count": 90,
   "id": "eab6da1b-14ea-4aab-ba11-1e240e6dd5a6",
   "metadata": {},
   "outputs": [],
   "source": [
    "my_df = my_df.drop('file_name', axis=1)"
   ]
  },
  {
   "cell_type": "code",
   "execution_count": 91,
   "id": "2b5f9ef2-6c97-4601-b214-11040b8a479f",
   "metadata": {},
   "outputs": [],
   "source": [
    "my_df.columns = [\"filename\",\"transcript\"]"
   ]
  },
  {
   "cell_type": "code",
   "execution_count": 95,
   "id": "eacc2041-ef8e-4faf-9e83-6198d0ec4753",
   "metadata": {},
   "outputs": [],
   "source": [
    "my_df.to_csv(f'{root_path}/tamil/tamil.csv')"
   ]
  }
 ],
 "metadata": {
  "kernelspec": {
   "display_name": "Python 3 (ipykernel)",
   "language": "python",
   "name": "python3"
  },
  "language_info": {
   "codemirror_mode": {
    "name": "ipython",
    "version": 3
   },
   "file_extension": ".py",
   "mimetype": "text/x-python",
   "name": "python",
   "nbconvert_exporter": "python",
   "pygments_lexer": "ipython3",
   "version": "3.9.16"
  }
 },
 "nbformat": 4,
 "nbformat_minor": 5
}
