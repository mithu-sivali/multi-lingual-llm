{
 "cells": [
  {
   "cell_type": "code",
   "execution_count": 1,
   "id": "faa93d50-18f9-4130-a5eb-286ca4c70858",
   "metadata": {},
   "outputs": [
    {
     "name": "stdout",
     "output_type": "stream",
     "text": [
      "Collecting elevenlabs\n",
      "  Downloading elevenlabs-1.3.1-py3-none-any.whl.metadata (9.9 kB)\n",
      "Requirement already satisfied: httpx>=0.21.2 in /home/ubuntu/suriya/speech-benchmarks/venv/lib/python3.9/site-packages (from elevenlabs) (0.27.0)\n",
      "Requirement already satisfied: pydantic>=1.9.2 in /home/ubuntu/suriya/speech-benchmarks/venv/lib/python3.9/site-packages (from elevenlabs) (2.7.4)\n",
      "Requirement already satisfied: requests>=2.20 in /home/ubuntu/suriya/speech-benchmarks/venv/lib/python3.9/site-packages (from elevenlabs) (2.32.3)\n",
      "Requirement already satisfied: typing_extensions>=4.0.0 in /home/ubuntu/suriya/speech-benchmarks/venv/lib/python3.9/site-packages (from elevenlabs) (4.12.2)\n",
      "Collecting websockets>=11.0 (from elevenlabs)\n",
      "  Downloading websockets-12.0-cp39-cp39-manylinux_2_5_x86_64.manylinux1_x86_64.manylinux_2_17_x86_64.manylinux2014_x86_64.whl.metadata (6.6 kB)\n",
      "Requirement already satisfied: anyio in /home/ubuntu/suriya/speech-benchmarks/venv/lib/python3.9/site-packages (from httpx>=0.21.2->elevenlabs) (4.4.0)\n",
      "Requirement already satisfied: certifi in /home/ubuntu/suriya/speech-benchmarks/venv/lib/python3.9/site-packages (from httpx>=0.21.2->elevenlabs) (2024.6.2)\n",
      "Requirement already satisfied: httpcore==1.* in /home/ubuntu/suriya/speech-benchmarks/venv/lib/python3.9/site-packages (from httpx>=0.21.2->elevenlabs) (1.0.5)\n",
      "Requirement already satisfied: idna in /home/ubuntu/suriya/speech-benchmarks/venv/lib/python3.9/site-packages (from httpx>=0.21.2->elevenlabs) (3.7)\n",
      "Requirement already satisfied: sniffio in /home/ubuntu/suriya/speech-benchmarks/venv/lib/python3.9/site-packages (from httpx>=0.21.2->elevenlabs) (1.3.1)\n",
      "Requirement already satisfied: h11<0.15,>=0.13 in /home/ubuntu/suriya/speech-benchmarks/venv/lib/python3.9/site-packages (from httpcore==1.*->httpx>=0.21.2->elevenlabs) (0.14.0)\n",
      "Requirement already satisfied: annotated-types>=0.4.0 in /home/ubuntu/suriya/speech-benchmarks/venv/lib/python3.9/site-packages (from pydantic>=1.9.2->elevenlabs) (0.7.0)\n",
      "Requirement already satisfied: pydantic-core==2.18.4 in /home/ubuntu/suriya/speech-benchmarks/venv/lib/python3.9/site-packages (from pydantic>=1.9.2->elevenlabs) (2.18.4)\n",
      "Requirement already satisfied: charset-normalizer<4,>=2 in /home/ubuntu/suriya/speech-benchmarks/venv/lib/python3.9/site-packages (from requests>=2.20->elevenlabs) (3.3.2)\n",
      "Requirement already satisfied: urllib3<3,>=1.21.1 in /home/ubuntu/suriya/speech-benchmarks/venv/lib/python3.9/site-packages (from requests>=2.20->elevenlabs) (2.2.1)\n",
      "Requirement already satisfied: exceptiongroup>=1.0.2 in /home/ubuntu/suriya/speech-benchmarks/venv/lib/python3.9/site-packages (from anyio->httpx>=0.21.2->elevenlabs) (1.2.1)\n",
      "Downloading elevenlabs-1.3.1-py3-none-any.whl (131 kB)\n",
      "\u001b[2K   \u001b[90m━━━━━━━━━━━━━━━━━━━━━━━━━━━━━━━━━━━━━━━━\u001b[0m \u001b[32m131.2/131.2 kB\u001b[0m \u001b[31m13.0 MB/s\u001b[0m eta \u001b[36m0:00:00\u001b[0m\n",
      "\u001b[?25hDownloading websockets-12.0-cp39-cp39-manylinux_2_5_x86_64.manylinux1_x86_64.manylinux_2_17_x86_64.manylinux2014_x86_64.whl (130 kB)\n",
      "\u001b[2K   \u001b[90m━━━━━━━━━━━━━━━━━━━━━━━━━━━━━━━━━━━━━━━━\u001b[0m \u001b[32m130.0/130.0 kB\u001b[0m \u001b[31m19.9 MB/s\u001b[0m eta \u001b[36m0:00:00\u001b[0m\n",
      "\u001b[?25hInstalling collected packages: websockets, elevenlabs\n",
      "Successfully installed elevenlabs-1.3.1 websockets-12.0\n",
      "\n",
      "\u001b[1m[\u001b[0m\u001b[34;49mnotice\u001b[0m\u001b[1;39;49m]\u001b[0m\u001b[39;49m A new release of pip is available: \u001b[0m\u001b[31;49m24.0\u001b[0m\u001b[39;49m -> \u001b[0m\u001b[32;49m24.1\u001b[0m\n",
      "\u001b[1m[\u001b[0m\u001b[34;49mnotice\u001b[0m\u001b[1;39;49m]\u001b[0m\u001b[39;49m To update, run: \u001b[0m\u001b[32;49mpip install --upgrade pip\u001b[0m\n"
     ]
    }
   ],
   "source": [
    "!pip install elevenlabs"
   ]
  },
  {
   "cell_type": "code",
   "execution_count": 16,
   "id": "f4dea6c0-387c-4a27-8059-eef86f565d1d",
   "metadata": {},
   "outputs": [],
   "source": [
    "from elevenlabs import play, save\n",
    "from elevenlabs.client import ElevenLabs\n",
    "import pandas as pd\n",
    "df = pd.read_csv('../dataset/tamil-tts/tamil.csv')\n",
    "\n",
    "client = ElevenLabs(\n",
    "  api_key=\"\", # Defaults to ELEVEN_API_KEY\n",
    ")\n",
    "\n",
    "# audio = client.generate(\n",
    "#   text=\"கேரளத்து பத்மநாப சுவாமி கோயிலில் a lot of Gold were found\",\n",
    "#   voice=\"Rachel\",\n",
    "#   model=\"eleven_multilingual_v2\"\n",
    "# )\n",
    "# save(audio,'../dataset/elevenlabs-tts/speech.mp3')"
   ]
  },
  {
   "cell_type": "code",
   "execution_count": 17,
   "id": "0c1a41c6-e6de-4c67-8e51-ace664bf06be",
   "metadata": {},
   "outputs": [],
   "source": [
    "count = 0\n",
    "for i in df[\"transcript\"]:\n",
    "    audio = client.generate(\n",
    "              text=i,\n",
    "              voice=\"Rachel\",\n",
    "              model=\"eleven_multilingual_v2\"\n",
    "            )\n",
    "    save(audio,f'../dataset/elevenlabs-tts/{count}.wav')\n",
    "    count+=1\n",
    "    "
   ]
  },
  {
   "cell_type": "code",
   "execution_count": null,
   "id": "d4894a39-a310-4b83-b077-6820b3af9793",
   "metadata": {},
   "outputs": [],
   "source": []
  }
 ],
 "metadata": {
  "kernelspec": {
   "display_name": "Python 3 (ipykernel)",
   "language": "python",
   "name": "python3"
  },
  "language_info": {
   "codemirror_mode": {
    "name": "ipython",
    "version": 3
   },
   "file_extension": ".py",
   "mimetype": "text/x-python",
   "name": "python",
   "nbconvert_exporter": "python",
   "pygments_lexer": "ipython3",
   "version": "3.9.16"
  }
 },
 "nbformat": 4,
 "nbformat_minor": 5
}
